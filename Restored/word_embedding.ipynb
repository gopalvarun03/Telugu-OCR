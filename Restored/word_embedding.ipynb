{
 "cells": [
  {
   "cell_type": "code",
   "execution_count": 1,
   "metadata": {},
   "outputs": [],
   "source": [
    "import torch\n",
    "import torch.nn as nn\n",
    "import torch.nn.functional as F\n",
    "import torch.optim as optim\n",
    "\n",
    "device = torch.device(\"cuda\" if torch.cuda.is_available() else \"cpu\")\n",
    "# device = torch.device(\"cpu\")"
   ]
  },
  {
   "cell_type": "code",
   "execution_count": 2,
   "metadata": {},
   "outputs": [],
   "source": [
    "class Encode(nn.Module):\n",
    "    def __init__(self, input_shape: int, output_shape: int):\n",
    "        super(Encode, self).__init__()\n",
    "        self.encode1 = nn.Linear(input_shape, 100, bias=False)\n",
    "        self.encode2 = nn.Linear(100, output_shape, bias=False)\n",
    "    def forward(self, x: torch.Tensor):\n",
    "        x = self.encode1(x)\n",
    "        x = F.leaky_relu(x, 0.2)\n",
    "        x = self.encode2(x)\n",
    "        return x\n",
    "\n",
    "class Decode(nn.Module):\n",
    "    def __init__(self, input_shape: int, output_shape: int):\n",
    "        super(Decode, self).__init__()\n",
    "        self.decode1 = nn.Linear(input_shape, 100, bias=False)\n",
    "        self.decode2 = nn.Linear(100, output_shape, bias=False)\n",
    "    def forward(self, x: torch.Tensor):\n",
    "        x = self.decode1(x)\n",
    "        x = F.leaky_relu(x, 0.2)\n",
    "        x = self.decode2(x)\n",
    "        return x\n",
    "    "
   ]
  },
  {
   "cell_type": "code",
   "execution_count": 3,
   "metadata": {},
   "outputs": [],
   "source": [
    "Losses = []\n",
    "trues = []\n",
    "falses = []"
   ]
  },
  {
   "cell_type": "code",
   "execution_count": 4,
   "metadata": {},
   "outputs": [
    {
     "name": "stderr",
     "output_type": "stream",
     "text": [
      "/home/ocr/anaconda3/envs/teluguOCR/lib/python3.10/site-packages/tqdm/auto.py:21: TqdmWarning: IProgress not found. Please update jupyter and ipywidgets. See https://ipywidgets.readthedocs.io/en/stable/user_install.html\n",
      "  from .autonotebook import tqdm as notebook_tqdm\n"
     ]
    },
    {
     "name": "stdout",
     "output_type": "stream",
     "text": [
      "Epoch:  0 Loss:  0.00204263161867857\n",
      "Epoch:  10 Loss:  0.000437266833614558\n",
      "Epoch:  20 Loss:  0.00030512994271703064\n",
      "Epoch:  30 Loss:  0.00020943056733813137\n",
      "Epoch:  40 Loss:  0.00029503178666345775\n",
      "Epoch:  50 Loss:  0.00021288866992108524\n",
      "Epoch:  60 Loss:  0.00012142528430558741\n",
      "Epoch:  70 Loss:  0.00025447309599258006\n",
      "Epoch:  80 Loss:  0.00011007166904164478\n",
      "Epoch:  90 Loss:  0.00013077064068056643\n",
      "Epoch:  100 Loss:  0.0001537467906018719\n",
      "Epoch:  110 Loss:  8.599599823355675e-05\n",
      "Epoch:  120 Loss:  9.591328853275627e-05\n",
      "Epoch:  130 Loss:  0.00013821962056681514\n",
      "Epoch:  140 Loss:  0.00013060345372650772\n",
      "Epoch:  150 Loss:  9.403921285411343e-05\n",
      "Epoch:  160 Loss:  7.045492384349927e-05\n",
      "Epoch:  170 Loss:  8.65713955136016e-05\n",
      "Epoch:  180 Loss:  6.122837658040226e-05\n",
      "Epoch:  190 Loss:  9.41416437854059e-05\n",
      "Epoch:  200 Loss:  0.00018788353190757334\n",
      "Epoch:  210 Loss:  7.257572724483907e-05\n",
      "Epoch:  220 Loss:  0.0001371008693240583\n",
      "Epoch:  230 Loss:  5.999718268867582e-05\n",
      "Epoch:  240 Loss:  0.00011672266555251554\n",
      "Epoch:  250 Loss:  0.0001595289504621178\n",
      "Epoch:  260 Loss:  0.00010378700244473293\n",
      "Epoch:  270 Loss:  3.946986180380918e-05\n",
      "Epoch:  280 Loss:  6.20667269686237e-05\n",
      "Epoch:  290 Loss:  6.781845149816945e-05\n",
      "Epoch:  300 Loss:  4.7688663471490145e-05\n",
      "Epoch:  310 Loss:  8.726742817088962e-05\n",
      "Epoch:  320 Loss:  9.650510037317872e-05\n",
      "Epoch:  330 Loss:  3.2470579753862694e-05\n",
      "Epoch:  340 Loss:  4.6873952669557184e-05\n",
      "Epoch:  350 Loss:  8.402764797210693e-05\n",
      "Epoch:  360 Loss:  0.00010830752580659464\n",
      "Epoch:  370 Loss:  6.106725049903616e-05\n",
      "Epoch:  380 Loss:  7.206599548226222e-05\n",
      "Epoch:  390 Loss:  5.3018164180684835e-05\n",
      "Epoch:  400 Loss:  8.7712389358785e-05\n",
      "Epoch:  410 Loss:  9.693403990240768e-05\n",
      "Epoch:  420 Loss:  5.821526065119542e-05\n",
      "Epoch:  430 Loss:  5.014131966163404e-05\n",
      "Epoch:  440 Loss:  3.6295608879299834e-05\n",
      "Epoch:  450 Loss:  3.201583604095504e-05\n",
      "Epoch:  460 Loss:  7.99772678874433e-05\n",
      "Epoch:  470 Loss:  0.00022298113617580384\n",
      "Epoch:  480 Loss:  6.338857929222286e-05\n",
      "Epoch:  490 Loss:  9.405702439835295e-05\n",
      "Epoch:  500 Loss:  7.669275510124862e-05\n",
      "Epoch:  510 Loss:  0.00011658544826786965\n",
      "Epoch:  520 Loss:  5.1465882279444486e-05\n",
      "Epoch:  530 Loss:  6.279027002165094e-05\n",
      "Epoch:  540 Loss:  4.660421109292656e-05\n",
      "Epoch:  550 Loss:  0.0001582320110173896\n",
      "Epoch:  560 Loss:  2.055147706414573e-05\n",
      "Epoch:  570 Loss:  0.00010847932571778074\n",
      "Epoch:  580 Loss:  6.983019557083026e-05\n",
      "Epoch:  590 Loss:  3.6821085814153776e-05\n",
      "Epoch:  600 Loss:  1.8436856407788582e-05\n",
      "Epoch:  610 Loss:  2.7586766009335406e-05\n",
      "Epoch:  620 Loss:  5.47222480236087e-05\n",
      "Epoch:  630 Loss:  6.134214345365763e-05\n",
      "Epoch:  640 Loss:  7.87364479037933e-05\n",
      "Epoch:  650 Loss:  4.114887269679457e-05\n",
      "Epoch:  660 Loss:  0.00010659959662007168\n",
      "Epoch:  670 Loss:  5.749979754909873e-05\n",
      "Epoch:  680 Loss:  5.051425250712782e-05\n",
      "Epoch:  690 Loss:  8.39382701087743e-05\n",
      "Epoch:  700 Loss:  5.396272899815813e-05\n",
      "Epoch:  710 Loss:  2.808240424201358e-05\n",
      "Epoch:  720 Loss:  0.0001256084506167099\n",
      "Epoch:  730 Loss:  4.7783345507923514e-05\n",
      "Epoch:  740 Loss:  6.295125785982236e-05\n",
      "Epoch:  750 Loss:  6.0883965488756076e-05\n",
      "Epoch:  760 Loss:  2.795832733681891e-05\n",
      "Epoch:  770 Loss:  7.632505730725825e-05\n",
      "Epoch:  780 Loss:  3.2910407753661275e-05\n",
      "Epoch:  790 Loss:  4.882907887804322e-05\n",
      "Epoch:  800 Loss:  7.354783156188205e-05\n",
      "Epoch:  810 Loss:  9.667120320955291e-05\n",
      "Epoch:  820 Loss:  2.0865445549134165e-05\n",
      "Epoch:  830 Loss:  3.7920479371678084e-05\n",
      "Epoch:  840 Loss:  2.3793127184035257e-05\n",
      "Epoch:  850 Loss:  3.497935540508479e-05\n",
      "Epoch:  860 Loss:  5.5102638725657016e-05\n",
      "Epoch:  870 Loss:  7.196899241534993e-05\n",
      "Epoch:  880 Loss:  4.6942575863795355e-05\n",
      "Epoch:  890 Loss:  0.00027031972422264516\n",
      "Epoch:  900 Loss:  2.229922938568052e-05\n",
      "Epoch:  910 Loss:  0.0001039050766848959\n",
      "Epoch:  920 Loss:  2.0484305423451588e-05\n",
      "Epoch:  930 Loss:  3.872699016937986e-05\n",
      "Epoch:  940 Loss:  3.802634455496445e-05\n",
      "Epoch:  950 Loss:  8.960168634075671e-05\n",
      "Epoch:  960 Loss:  3.555084913386963e-05\n",
      "Epoch:  970 Loss:  4.734722460852936e-05\n",
      "Epoch:  980 Loss:  5.453496123664081e-05\n",
      "Epoch:  990 Loss:  6.542448682012036e-05\n",
      "Trues:  28491\n",
      "Flases:  1344\n"
     ]
    }
   ],
   "source": [
    "losses = []\n",
    "encode = Encode(175, 20).to(device)\n",
    "decode = Decode(20, 175).to(device)\n",
    "params = list(encode.parameters()) + list(decode.parameters())\n",
    "optimizer = optim.Adam(params, lr=0.01)\n",
    "\n",
    "clip = 1\n",
    "torch.nn.utils.clip_grad_norm_(params, clip, norm_type=2, error_if_nonfinite=False)\n",
    "\n",
    "\n",
    "criterion = nn.MSELoss().cuda() if torch.cuda.is_available() else nn.MSELoss()\n",
    "for epoch in range(1000):\n",
    "    if (epoch > 500) and (losses[-1] == losses[-2]) and (losses[-2] == losses[-3]) and (losses[-3] == losses[-4]) and (losses[-4] == losses[-5]):\n",
    "        break\n",
    "    for i in range(1, 90):\n",
    "        optimizer.zero_grad()\n",
    "        label = torch.load('/home/ocr/teluguOCR/Dataset/Batch_Label_Tensors/Label' + str(i) + '.pt').to(device)\n",
    "        encoded = encode(label)\n",
    "        reconstructed = decode(encoded)\n",
    "        loss = criterion(reconstructed, label)\n",
    "        losses.append(loss.item())\n",
    "        loss.backward()\n",
    "        optimizer.step()\n",
    "    if(epoch%10 == 0):\n",
    "        print('Epoch: ', epoch, 'Loss: ', loss.item())\n",
    "Losses.append(losses)\n",
    "torch.save(encode.state_dict(), '/home/ocr/teluguOCR/Models/Encode_no_act' + str(20) + '.pth')\n",
    "torch.save(decode.state_dict(), '/home/ocr/teluguOCR/Models/Decode_no_act' + str(20) + '.pth')\n",
    "false = 0\n",
    "true = 0\n",
    "for ind in range(1, 90):\n",
    "    labels = torch.load('/home/ocr/teluguOCR/Dataset/Batch_Label_Tensors/Label' + str(ind) + '.pt').to(device)\n",
    "    for i in range(labels.size(0)):\n",
    "        label = labels[i]\n",
    "        encoded = encode(label)\n",
    "        reconstructed = decode(encoded)\n",
    "        reconstructed = torch.round(reconstructed)\n",
    "        if torch.equal(label, reconstructed):\n",
    "            true += 1\n",
    "        else:\n",
    "            false += 1\n",
    "print('Trues: ', true)\n",
    "print('Flases: ', false)\n",
    "trues.append(true)\n",
    "falses.append(false)\n",
    "del encode\n",
    "del decode\n",
    "del params\n",
    "del optimizer\n",
    "del criterion\n"
   ]
  },
  {
   "cell_type": "code",
   "execution_count": 5,
   "metadata": {},
   "outputs": [
    {
     "data": {
      "image/png": "[encoded data removed]",
      "text/plain": [
       "<Figure size 640x480 with 1 Axes>"
      ]
     },
     "metadata": {},
     "output_type": "display_data"
    }
   ],
   "source": [
    "import matplotlib.pyplot as plt\n",
    "\n",
    "plt.plot(losses)\n",
    "plt.xlabel('Iterations')\n",
    "plt.ylabel('Loss')\n",
    "plt.title('Loss vs Iterations')\n",
    "plt.show()"
   ]
  },
  {
   "cell_type": "code",
   "execution_count": 6,
   "metadata": {},
   "outputs": [
    {
     "name": "stdout",
     "output_type": "stream",
     "text": [
      "Trues:  29083\n",
      "Flases:  752\n"
     ]
    }
   ],
   "source": [
    "# torch.save(encode.state_dict(), '/home/ocr/teluguOCR/Models/Encode_no_act' + str(40) + '.pth')\n",
    "# torch.save(decode.state_dict(), '/home/ocr/teluguOCR/Models/Decode_no_act' + str(40) + '.pth')\n",
    "\n",
    "encode = Encode(175, 40).to(device)\n",
    "decode = Decode(40, 175).to(device)\n",
    "\n",
    "encode.load_state_dict(torch.load('/home/ocr/teluguOCR/Models/Encode_no_act' + str(40) + '.pth'))\n",
    "decode.load_state_dict(torch.load('/home/ocr/teluguOCR/Models/Decode_no_act' + str(40) + '.pth'))\n",
    "\n",
    "encode.eval()\n",
    "decode.eval()\n",
    "\n",
    "false = 0\n",
    "true = 0\n",
    "for ind in range(1, 90):\n",
    "    labels = torch.load('/home/ocr/teluguOCR/Dataset/Batch_Label_Tensors/Label' + str(ind) + '.pt').to(device)\n",
    "    for i in range(labels.size(0)):\n",
    "        label = labels[i]\n",
    "        # label[label == 1] = 2e5\n",
    "        encoded = encode(label)\n",
    "        reconstructed = decode(encoded)\n",
    "        # reconstructed = torch.sigmoid(reconstructed)\n",
    "        reconstructed = torch.round(reconstructed)\n",
    "        # reconstructed[reconstructed < 1e5] = 0\n",
    "        # reconstructed[reconstructed >= 1e5] = 2e5\n",
    "        if torch.equal(label, reconstructed):\n",
    "            true += 1\n",
    "        else:\n",
    "            false += 1\n",
    "print('Trues: ', true)\n",
    "print('Flases: ', false)"
   ]
  },
  {
   "cell_type": "code",
   "execution_count": 7,
   "metadata": {},
   "outputs": [
    {
     "name": "stderr",
     "output_type": "stream",
     "text": [
      "No artists with labels found to put in legend.  Note that artists whose label start with an underscore are ignored when legend() is called with no argument.\n"
     ]
    },
    {
     "data": {
      "image/png": "[encoded data removed]",
      "text/plain": [
       "<Figure size 640x480 with 1 Axes>"
      ]
     },
     "metadata": {},
     "output_type": "display_data"
    }
   ],
   "source": [
    "import matplotlib.pyplot as plt\n",
    "plt.plot(Losses[i][:])\n",
    "plt.legend()\n",
    "plt.xlabel('Epochs')\n",
    "plt.ylabel('Loss')\n",
    "plt.title('Loss vs Epochs')\n",
    "# plt.savefig('../Images/Encoding_sizes_Ann_MSELoss.png')\n",
    "plt.show()"
   ]
  },
  {
   "cell_type": "code",
   "execution_count": 8,
   "metadata": {},
   "outputs": [
    {
     "ename": "FileNotFoundError",
     "evalue": "[Errno 2] No such file or directory: '/home/ocr/teluguOCR/Models/Encode110.pth'",
     "output_type": "error",
     "traceback": [
      "\u001b[0;31m---------------------------------------------------------------------------\u001b[0m",
      "\u001b[0;31mFileNotFoundError\u001b[0m                         Traceback (most recent call last)",
      "Cell \u001b[0;32mIn[8], line 3\u001b[0m\n\u001b[1;32m      1\u001b[0m encode \u001b[38;5;241m=\u001b[39m Encode(\u001b[38;5;241m175\u001b[39m, \u001b[38;5;241m110\u001b[39m)\u001b[38;5;241m.\u001b[39mto(device)\n\u001b[1;32m      2\u001b[0m decode \u001b[38;5;241m=\u001b[39m Decode(\u001b[38;5;241m110\u001b[39m, \u001b[38;5;241m175\u001b[39m)\u001b[38;5;241m.\u001b[39mto(device)\n\u001b[0;32m----> 3\u001b[0m encode\u001b[38;5;241m.\u001b[39mload_state_dict(\u001b[43mtorch\u001b[49m\u001b[38;5;241;43m.\u001b[39;49m\u001b[43mload\u001b[49m\u001b[43m(\u001b[49m\u001b[38;5;124;43m'\u001b[39;49m\u001b[38;5;124;43m/home/ocr/teluguOCR/Models/Encode110.pth\u001b[39;49m\u001b[38;5;124;43m'\u001b[39;49m\u001b[43m)\u001b[49m)\n\u001b[1;32m      4\u001b[0m decode\u001b[38;5;241m.\u001b[39mload_state_dict(torch\u001b[38;5;241m.\u001b[39mload(\u001b[38;5;124m'\u001b[39m\u001b[38;5;124m/home/ocr/teluguOCR/Models/Decode110.pth\u001b[39m\u001b[38;5;124m'\u001b[39m))\n\u001b[1;32m      5\u001b[0m encode\u001b[38;5;241m.\u001b[39meval()\n",
      "File \u001b[0;32m~/anaconda3/envs/teluguOCR/lib/python3.10/site-packages/torch/serialization.py:986\u001b[0m, in \u001b[0;36mload\u001b[0;34m(f, map_location, pickle_module, weights_only, mmap, **pickle_load_args)\u001b[0m\n\u001b[1;32m    983\u001b[0m \u001b[38;5;28;01mif\u001b[39;00m \u001b[38;5;124m'\u001b[39m\u001b[38;5;124mencoding\u001b[39m\u001b[38;5;124m'\u001b[39m \u001b[38;5;129;01mnot\u001b[39;00m \u001b[38;5;129;01min\u001b[39;00m pickle_load_args\u001b[38;5;241m.\u001b[39mkeys():\n\u001b[1;32m    984\u001b[0m     pickle_load_args[\u001b[38;5;124m'\u001b[39m\u001b[38;5;124mencoding\u001b[39m\u001b[38;5;124m'\u001b[39m] \u001b[38;5;241m=\u001b[39m \u001b[38;5;124m'\u001b[39m\u001b[38;5;124mutf-8\u001b[39m\u001b[38;5;124m'\u001b[39m\n\u001b[0;32m--> 986\u001b[0m \u001b[38;5;28;01mwith\u001b[39;00m \u001b[43m_open_file_like\u001b[49m\u001b[43m(\u001b[49m\u001b[43mf\u001b[49m\u001b[43m,\u001b[49m\u001b[43m \u001b[49m\u001b[38;5;124;43m'\u001b[39;49m\u001b[38;5;124;43mrb\u001b[39;49m\u001b[38;5;124;43m'\u001b[39;49m\u001b[43m)\u001b[49m \u001b[38;5;28;01mas\u001b[39;00m opened_file:\n\u001b[1;32m    987\u001b[0m     \u001b[38;5;28;01mif\u001b[39;00m _is_zipfile(opened_file):\n\u001b[1;32m    988\u001b[0m         \u001b[38;5;66;03m# The zipfile reader is going to advance the current file position.\u001b[39;00m\n\u001b[1;32m    989\u001b[0m         \u001b[38;5;66;03m# If we want to actually tail call to torch.jit.load, we need to\u001b[39;00m\n\u001b[1;32m    990\u001b[0m         \u001b[38;5;66;03m# reset back to the original position.\u001b[39;00m\n\u001b[1;32m    991\u001b[0m         orig_position \u001b[38;5;241m=\u001b[39m opened_file\u001b[38;5;241m.\u001b[39mtell()\n",
      "File \u001b[0;32m~/anaconda3/envs/teluguOCR/lib/python3.10/site-packages/torch/serialization.py:435\u001b[0m, in \u001b[0;36m_open_file_like\u001b[0;34m(name_or_buffer, mode)\u001b[0m\n\u001b[1;32m    433\u001b[0m \u001b[38;5;28;01mdef\u001b[39;00m \u001b[38;5;21m_open_file_like\u001b[39m(name_or_buffer, mode):\n\u001b[1;32m    434\u001b[0m     \u001b[38;5;28;01mif\u001b[39;00m _is_path(name_or_buffer):\n\u001b[0;32m--> 435\u001b[0m         \u001b[38;5;28;01mreturn\u001b[39;00m \u001b[43m_open_file\u001b[49m\u001b[43m(\u001b[49m\u001b[43mname_or_buffer\u001b[49m\u001b[43m,\u001b[49m\u001b[43m \u001b[49m\u001b[43mmode\u001b[49m\u001b[43m)\u001b[49m\n\u001b[1;32m    436\u001b[0m     \u001b[38;5;28;01melse\u001b[39;00m:\n\u001b[1;32m    437\u001b[0m         \u001b[38;5;28;01mif\u001b[39;00m \u001b[38;5;124m'\u001b[39m\u001b[38;5;124mw\u001b[39m\u001b[38;5;124m'\u001b[39m \u001b[38;5;129;01min\u001b[39;00m mode:\n",
      "File \u001b[0;32m~/anaconda3/envs/teluguOCR/lib/python3.10/site-packages/torch/serialization.py:416\u001b[0m, in \u001b[0;36m_open_file.__init__\u001b[0;34m(self, name, mode)\u001b[0m\n\u001b[1;32m    415\u001b[0m \u001b[38;5;28;01mdef\u001b[39;00m \u001b[38;5;21m__init__\u001b[39m(\u001b[38;5;28mself\u001b[39m, name, mode):\n\u001b[0;32m--> 416\u001b[0m     \u001b[38;5;28msuper\u001b[39m()\u001b[38;5;241m.\u001b[39m\u001b[38;5;21m__init__\u001b[39m(\u001b[38;5;28;43mopen\u001b[39;49m\u001b[43m(\u001b[49m\u001b[43mname\u001b[49m\u001b[43m,\u001b[49m\u001b[43m \u001b[49m\u001b[43mmode\u001b[49m\u001b[43m)\u001b[49m)\n",
      "\u001b[0;31mFileNotFoundError\u001b[0m: [Errno 2] No such file or directory: '/home/ocr/teluguOCR/Models/Encode110.pth'"
     ]
    }
   ],
   "source": [
    "encode = Encode(175, 110).to(device)\n",
    "decode = Decode(110, 175).to(device)\n",
    "encode.load_state_dict(torch.load('/home/ocr/teluguOCR/Models/Encode110.pth'))\n",
    "decode.load_state_dict(torch.load('/home/ocr/teluguOCR/Models/Decode110.pth'))\n",
    "encode.eval()\n",
    "decode.eval()\n",
    "\n",
    "flases = 0\n",
    "trues = 0\n",
    "for ind in range(1, 90):\n",
    "    labels = torch.load('/home/ocr/teluguOCR/Dataset/Batch_Label_Tensors/Label' + str(ind) + '.pt').to(device)\n",
    "    for i in range(labels.size(0)):\n",
    "        label = labels[i]\n",
    "        encoded = encode(label)\n",
    "        reconstructed = decode(encoded)\n",
    "        reconstructed = torch.round(reconstructed)\n",
    "        # reconstructed[reconstructed < 0.05] = 0\n",
    "        # reconstructed[reconstructed >= 0.05] = 1\n",
    "        if torch.equal(label, reconstructed):\n",
    "            trues += 1\n",
    "        else:\n",
    "            flases += 1\n",
    "print('Trues: ', trues)\n",
    "print('Flases: ', flases)"
   ]
  },
  {
   "cell_type": "code",
   "execution_count": null,
   "metadata": {},
   "outputs": [],
   "source": [
    "# torch.save(encode.state_dict(), '/home/ocr/teluguOCR/encoder_175_to_100.pt')\n",
    "# torch.save(decode.state_dict(), '/home/ocr/teluguOCR/decoder_100_to_175.pt')"
   ]
  },
  {
   "cell_type": "code",
   "execution_count": null,
   "metadata": {},
   "outputs": [],
   "source": [
    "labels_path = '/home/ocr/teluguOCR/Dataset/Batch_Label_Tensors/Label'\n",
    "\n",
    "for ind in range(1, 90):\n",
    "    labels = torch.load(labels_path + str(ind) + '.pt').to(device)\n",
    "    labels[labels == 1] = 1e5\n",
    "    labels[labels == 0] = -1e5"
   ]
  },
  {
   "cell_type": "code",
   "execution_count": 22,
   "metadata": {},
   "outputs": [
    {
     "name": "stdout",
     "output_type": "stream",
     "text": [
      "torch.Size([3, 1, 112])\n",
      "torch.Size([1, 1])\n",
      "tensor(8.3384)\n"
     ]
    }
   ],
   "source": [
    "import torch \n",
    "import torch.nn as nn\n",
    "import torch.nn.functional as F\n",
    "\n",
    "criterion = nn.CTCLoss(blank= 0)\n",
    "\n",
    "input = torch.zeros((3, 112))\n",
    "input[0][1] = 1000\n",
    "\n",
    "target = torch.tensor([1])\n",
    "\n",
    "input = input.unsqueeze(1).log_softmax(2)\n",
    "target = target.unsqueeze(0)\n",
    "\n",
    "print(input.shape)\n",
    "print(target.shape)\n",
    "\n",
    "input_lengths = torch.full(size=(1,), fill_value=3, dtype=torch.long)\n",
    "target_lengths = torch.full(size=(1,), fill_value=1, dtype=torch.long)\n",
    "\n",
    "loss = criterion(input, target, input_lengths, target_lengths)\n",
    "print(loss)"
   ]
  }
 ],
 "metadata": {
  "kernelspec": {
   "display_name": "teluguOCR",
   "language": "python",
   "name": "python3"
  },
  "language_info": {
   "codemirror_mode": {
    "name": "ipython",
    "version": 3
   },
   "file_extension": ".py",
   "mimetype": "text/x-python",
   "name": "python",
   "nbconvert_exporter": "python",
   "pygments_lexer": "ipython3",
   "version": "3.10.13"
  }
 },
 "nbformat": 4,
 "nbformat_minor": 2
}
